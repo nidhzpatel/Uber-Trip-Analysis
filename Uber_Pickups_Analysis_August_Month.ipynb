{
 "cells": [
  {
   "cell_type": "markdown",
   "id": "59130f22",
   "metadata": {},
   "source": [
    "### Uber Pickups Analysis \n",
    "\n",
    "The analysis is based on the August dataset, `uber-raw-data-aug14.csv`.\n",
    "\n"
   ]
  },
  {
   "cell_type": "code",
   "execution_count": 1,
   "id": "7738147c",
   "metadata": {},
   "outputs": [
    {
     "data": {
      "text/html": [
       "<div>\n",
       "<style scoped>\n",
       "    .dataframe tbody tr th:only-of-type {\n",
       "        vertical-align: middle;\n",
       "    }\n",
       "\n",
       "    .dataframe tbody tr th {\n",
       "        vertical-align: top;\n",
       "    }\n",
       "\n",
       "    .dataframe thead th {\n",
       "        text-align: right;\n",
       "    }\n",
       "</style>\n",
       "<table border=\"1\" class=\"dataframe\">\n",
       "  <thead>\n",
       "    <tr style=\"text-align: right;\">\n",
       "      <th></th>\n",
       "      <th>Date/Time</th>\n",
       "      <th>Lat</th>\n",
       "      <th>Lon</th>\n",
       "      <th>Base</th>\n",
       "    </tr>\n",
       "  </thead>\n",
       "  <tbody>\n",
       "    <tr>\n",
       "      <th>0</th>\n",
       "      <td>8/1/2014 0:03:00</td>\n",
       "      <td>40.7366</td>\n",
       "      <td>-73.9906</td>\n",
       "      <td>B02512</td>\n",
       "    </tr>\n",
       "    <tr>\n",
       "      <th>1</th>\n",
       "      <td>8/1/2014 0:09:00</td>\n",
       "      <td>40.7260</td>\n",
       "      <td>-73.9918</td>\n",
       "      <td>B02512</td>\n",
       "    </tr>\n",
       "    <tr>\n",
       "      <th>2</th>\n",
       "      <td>8/1/2014 0:12:00</td>\n",
       "      <td>40.7209</td>\n",
       "      <td>-74.0507</td>\n",
       "      <td>B02512</td>\n",
       "    </tr>\n",
       "    <tr>\n",
       "      <th>3</th>\n",
       "      <td>8/1/2014 0:12:00</td>\n",
       "      <td>40.7387</td>\n",
       "      <td>-73.9856</td>\n",
       "      <td>B02512</td>\n",
       "    </tr>\n",
       "    <tr>\n",
       "      <th>4</th>\n",
       "      <td>8/1/2014 0:12:00</td>\n",
       "      <td>40.7323</td>\n",
       "      <td>-74.0077</td>\n",
       "      <td>B02512</td>\n",
       "    </tr>\n",
       "  </tbody>\n",
       "</table>\n",
       "</div>"
      ],
      "text/plain": [
       "          Date/Time      Lat      Lon    Base\n",
       "0  8/1/2014 0:03:00  40.7366 -73.9906  B02512\n",
       "1  8/1/2014 0:09:00  40.7260 -73.9918  B02512\n",
       "2  8/1/2014 0:12:00  40.7209 -74.0507  B02512\n",
       "3  8/1/2014 0:12:00  40.7387 -73.9856  B02512\n",
       "4  8/1/2014 0:12:00  40.7323 -74.0077  B02512"
      ]
     },
     "execution_count": 1,
     "metadata": {},
     "output_type": "execute_result"
    }
   ],
   "source": [
    "import pandas as pd\n",
    "\n",
    "df = pd.read_csv('uber-raw-data-aug14.csv')\n",
    "df.head()"
   ]
  },
  {
   "cell_type": "markdown",
   "id": "c622eaeb",
   "metadata": {},
   "source": [
    "#### Date on which we see the most number of Uber pickups"
   ]
  },
  {
   "cell_type": "code",
   "execution_count": 2,
   "id": "4c0aea28",
   "metadata": {},
   "outputs": [],
   "source": [
    "# Convert the 'Date/Time' column to datetime format\n",
    "df['Date/Time'] = pd.to_datetime(df['Date/Time'])"
   ]
  },
  {
   "cell_type": "code",
   "execution_count": 3,
   "id": "53e77a23",
   "metadata": {},
   "outputs": [
    {
     "data": {
      "text/plain": [
       "Date/Time    datetime64[ns]\n",
       "Lat                 float64\n",
       "Lon                 float64\n",
       "Base                 object\n",
       "dtype: object"
      ]
     },
     "execution_count": 3,
     "metadata": {},
     "output_type": "execute_result"
    }
   ],
   "source": [
    "df.dtypes"
   ]
  },
  {
   "cell_type": "code",
   "execution_count": 4,
   "id": "d3de1f59",
   "metadata": {},
   "outputs": [],
   "source": [
    "df['Date'] = df['Date/Time'].dt.date"
   ]
  },
  {
   "cell_type": "code",
   "execution_count": 5,
   "id": "6d7725a1",
   "metadata": {},
   "outputs": [
    {
     "data": {
      "text/html": [
       "<div>\n",
       "<style scoped>\n",
       "    .dataframe tbody tr th:only-of-type {\n",
       "        vertical-align: middle;\n",
       "    }\n",
       "\n",
       "    .dataframe tbody tr th {\n",
       "        vertical-align: top;\n",
       "    }\n",
       "\n",
       "    .dataframe thead th {\n",
       "        text-align: right;\n",
       "    }\n",
       "</style>\n",
       "<table border=\"1\" class=\"dataframe\">\n",
       "  <thead>\n",
       "    <tr style=\"text-align: right;\">\n",
       "      <th></th>\n",
       "      <th>Date</th>\n",
       "      <th>Date/Time</th>\n",
       "      <th>Lat</th>\n",
       "      <th>Lon</th>\n",
       "      <th>Base</th>\n",
       "    </tr>\n",
       "  </thead>\n",
       "  <tbody>\n",
       "    <tr>\n",
       "      <th>0</th>\n",
       "      <td>2014-08-01</td>\n",
       "      <td>32353</td>\n",
       "      <td>32353</td>\n",
       "      <td>32353</td>\n",
       "      <td>32353</td>\n",
       "    </tr>\n",
       "    <tr>\n",
       "      <th>1</th>\n",
       "      <td>2014-08-02</td>\n",
       "      <td>28678</td>\n",
       "      <td>28678</td>\n",
       "      <td>28678</td>\n",
       "      <td>28678</td>\n",
       "    </tr>\n",
       "    <tr>\n",
       "      <th>2</th>\n",
       "      <td>2014-08-03</td>\n",
       "      <td>23146</td>\n",
       "      <td>23146</td>\n",
       "      <td>23146</td>\n",
       "      <td>23146</td>\n",
       "    </tr>\n",
       "    <tr>\n",
       "      <th>3</th>\n",
       "      <td>2014-08-04</td>\n",
       "      <td>24952</td>\n",
       "      <td>24952</td>\n",
       "      <td>24952</td>\n",
       "      <td>24952</td>\n",
       "    </tr>\n",
       "    <tr>\n",
       "      <th>4</th>\n",
       "      <td>2014-08-05</td>\n",
       "      <td>28094</td>\n",
       "      <td>28094</td>\n",
       "      <td>28094</td>\n",
       "      <td>28094</td>\n",
       "    </tr>\n",
       "  </tbody>\n",
       "</table>\n",
       "</div>"
      ],
      "text/plain": [
       "         Date  Date/Time    Lat    Lon   Base\n",
       "0  2014-08-01      32353  32353  32353  32353\n",
       "1  2014-08-02      28678  28678  28678  28678\n",
       "2  2014-08-03      23146  23146  23146  23146\n",
       "3  2014-08-04      24952  24952  24952  24952\n",
       "4  2014-08-05      28094  28094  28094  28094"
      ]
     },
     "execution_count": 5,
     "metadata": {},
     "output_type": "execute_result"
    }
   ],
   "source": [
    "# Group by date and count the number of pickups\n",
    "pickup = df.groupby(df['Date']).count().reset_index()\n",
    "pickup.head(5)"
   ]
  },
  {
   "cell_type": "code",
   "execution_count": 6,
   "id": "a0d1fa05",
   "metadata": {
    "scrolled": true
   },
   "outputs": [
    {
     "name": "stdout",
     "output_type": "stream",
     "text": [
      "Highest pickup happened on  2014-08-07\n"
     ]
    }
   ],
   "source": [
    "# Find the date with the highest number of pickups\n",
    "highest = pickup.sort_values(by = 'Lat',ascending = False).reset_index()\n",
    "print(\"Highest pickup happened on \",highest.iloc[0]['Date'])"
   ]
  },
  {
   "cell_type": "markdown",
   "id": "92876286",
   "metadata": {},
   "source": [
    "#### Uber pickups were made on the date with the highest number of pickups\n"
   ]
  },
  {
   "cell_type": "code",
   "execution_count": 7,
   "id": "f9574d4a",
   "metadata": {},
   "outputs": [
    {
     "name": "stdout",
     "output_type": "stream",
     "text": [
      "               Date/Time      Lat      Lon    Base        Date\n",
      "6944 2014-08-07 00:03:00  40.7455 -73.9895  B02512  2014-08-07\n",
      "6945 2014-08-07 00:09:00  40.7499 -74.0025  B02512  2014-08-07\n",
      "6946 2014-08-07 00:10:00  40.7417 -74.0037  B02512  2014-08-07\n",
      "6947 2014-08-07 00:16:00  40.6416 -73.7879  B02512  2014-08-07\n",
      "6948 2014-08-07 00:16:00  40.7008 -73.9405  B02512  2014-08-07\n"
     ]
    }
   ],
   "source": [
    "# Filter the DataFrame to include only the rows for the date with the highest number of pickups\n",
    "pickup_highest_date_row = df[df['Date'] == highest.iloc[0]['Date'] ]\n",
    "print(pickup_highest_date_row.head(5))\n"
   ]
  },
  {
   "cell_type": "code",
   "execution_count": 8,
   "id": "d64feece",
   "metadata": {},
   "outputs": [
    {
     "name": "stdout",
     "output_type": "stream",
     "text": [
      "Count of pickups on highest date 32759\n",
      "Count of pickups on highest date 32759\n"
     ]
    }
   ],
   "source": [
    "# Get the count of pickups on the highest date\n",
    "print(\"Count of pickups on highest date\", pickup_highest_date_row.shape[0])\n",
    "print(\"Count of pickups on highest date\",df['Date'].value_counts()[0])"
   ]
  },
  {
   "cell_type": "markdown",
   "id": "7dc6baef",
   "metadata": {},
   "source": [
    "#### Unique TLC base companies are affiliated with the Uber pickups in the dataset\n"
   ]
  },
  {
   "cell_type": "code",
   "execution_count": 9,
   "id": "9380c5ff",
   "metadata": {},
   "outputs": [
    {
     "name": "stdout",
     "output_type": "stream",
     "text": [
      "No of unique companies affiliated with uber  5\n"
     ]
    }
   ],
   "source": [
    "# Count the number of unique TLC base companies\n",
    "unique_company_count = df['Base'].nunique()\n",
    "print(\"No of unique companies affiliated with uber \", unique_company_count)"
   ]
  },
  {
   "cell_type": "markdown",
   "id": "71958a9f",
   "metadata": {},
   "source": [
    "#### TLC base company had the highest number of pickups\n"
   ]
  },
  {
   "cell_type": "code",
   "execution_count": 10,
   "id": "cd1cfe55",
   "metadata": {},
   "outputs": [
    {
     "data": {
      "text/html": [
       "<div>\n",
       "<style scoped>\n",
       "    .dataframe tbody tr th:only-of-type {\n",
       "        vertical-align: middle;\n",
       "    }\n",
       "\n",
       "    .dataframe tbody tr th {\n",
       "        vertical-align: top;\n",
       "    }\n",
       "\n",
       "    .dataframe thead th {\n",
       "        text-align: right;\n",
       "    }\n",
       "</style>\n",
       "<table border=\"1\" class=\"dataframe\">\n",
       "  <thead>\n",
       "    <tr style=\"text-align: right;\">\n",
       "      <th></th>\n",
       "      <th>Date/Time</th>\n",
       "      <th>Lat</th>\n",
       "      <th>Lon</th>\n",
       "      <th>Date</th>\n",
       "    </tr>\n",
       "    <tr>\n",
       "      <th>Base</th>\n",
       "      <th></th>\n",
       "      <th></th>\n",
       "      <th></th>\n",
       "      <th></th>\n",
       "    </tr>\n",
       "  </thead>\n",
       "  <tbody>\n",
       "    <tr>\n",
       "      <th>B02512</th>\n",
       "      <td>31472</td>\n",
       "      <td>31472</td>\n",
       "      <td>31472</td>\n",
       "      <td>31472</td>\n",
       "    </tr>\n",
       "    <tr>\n",
       "      <th>B02598</th>\n",
       "      <td>220129</td>\n",
       "      <td>220129</td>\n",
       "      <td>220129</td>\n",
       "      <td>220129</td>\n",
       "    </tr>\n",
       "    <tr>\n",
       "      <th>B02617</th>\n",
       "      <td>355803</td>\n",
       "      <td>355803</td>\n",
       "      <td>355803</td>\n",
       "      <td>355803</td>\n",
       "    </tr>\n",
       "    <tr>\n",
       "      <th>B02682</th>\n",
       "      <td>173280</td>\n",
       "      <td>173280</td>\n",
       "      <td>173280</td>\n",
       "      <td>173280</td>\n",
       "    </tr>\n",
       "    <tr>\n",
       "      <th>B02764</th>\n",
       "      <td>48591</td>\n",
       "      <td>48591</td>\n",
       "      <td>48591</td>\n",
       "      <td>48591</td>\n",
       "    </tr>\n",
       "  </tbody>\n",
       "</table>\n",
       "</div>"
      ],
      "text/plain": [
       "        Date/Time     Lat     Lon    Date\n",
       "Base                                     \n",
       "B02512      31472   31472   31472   31472\n",
       "B02598     220129  220129  220129  220129\n",
       "B02617     355803  355803  355803  355803\n",
       "B02682     173280  173280  173280  173280\n",
       "B02764      48591   48591   48591   48591"
      ]
     },
     "execution_count": 10,
     "metadata": {},
     "output_type": "execute_result"
    }
   ],
   "source": [
    "# Group by TLC base company and count the number of pickups\n",
    "tlc_groupby = df.groupby('Base').count()\n",
    "tlc_groupby"
   ]
  },
  {
   "cell_type": "code",
   "execution_count": 11,
   "id": "e63ac73a",
   "metadata": {},
   "outputs": [
    {
     "data": {
      "text/plain": [
       "B02617    355803\n",
       "B02598    220129\n",
       "B02682    173280\n",
       "B02764     48591\n",
       "B02512     31472\n",
       "Name: Base, dtype: int64"
      ]
     },
     "execution_count": 11,
     "metadata": {},
     "output_type": "execute_result"
    }
   ],
   "source": [
    "tlc_base_company = df['Base'].value_counts()\n",
    "tlc_base_company"
   ]
  },
  {
   "cell_type": "code",
   "execution_count": 12,
   "id": "e3c0d4ca",
   "metadata": {},
   "outputs": [
    {
     "name": "stdout",
     "output_type": "stream",
     "text": [
      "Base location with highest pickup  B02617\n"
     ]
    }
   ],
   "source": [
    "# Find the TLC base company with the highest number of pickups\n",
    "highest_base_pickup = tlc_groupby.sort_values(by = 'Date',ascending = False).reset_index()\n",
    "print(\"Base location with highest pickup \",highest_base_pickup.iloc[0]['Base'])"
   ]
  },
  {
   "cell_type": "markdown",
   "id": "a7fe7748",
   "metadata": {},
   "source": [
    "#### Uber pickups were made at each unique TLC base company\n"
   ]
  },
  {
   "cell_type": "code",
   "execution_count": 13,
   "id": "f8a4e6b3",
   "metadata": {},
   "outputs": [
    {
     "data": {
      "text/plain": [
       "B02617    355803\n",
       "B02598    220129\n",
       "B02682    173280\n",
       "B02764     48591\n",
       "B02512     31472\n",
       "Name: Base, dtype: int64"
      ]
     },
     "execution_count": 13,
     "metadata": {},
     "output_type": "execute_result"
    }
   ],
   "source": [
    "# Group by TLC base company and count the number of pickups\n",
    "df['Base'].value_counts()"
   ]
  },
  {
   "cell_type": "markdown",
   "id": "fdae331e",
   "metadata": {},
   "source": [
    "#### Determine the busiest time of day for Uber pickups based on the date/time column\n",
    "\n"
   ]
  },
  {
   "cell_type": "code",
   "execution_count": 14,
   "id": "3341b137",
   "metadata": {},
   "outputs": [
    {
     "data": {
      "text/plain": [
       "0    0\n",
       "1    0\n",
       "2    0\n",
       "3    0\n",
       "4    0\n",
       "Name: Hour, dtype: int64"
      ]
     },
     "execution_count": 14,
     "metadata": {},
     "output_type": "execute_result"
    }
   ],
   "source": [
    "# Extract the hour from the 'Date/Time' column\n",
    "df['Hour'] = df['Date/Time'].dt.hour\n",
    "df['Hour'].head()"
   ]
  },
  {
   "cell_type": "code",
   "execution_count": 15,
   "id": "02b9eb5b",
   "metadata": {},
   "outputs": [
    {
     "name": "stdout",
     "output_type": "stream",
     "text": [
      "17    57122\n",
      "18    55390\n",
      "16    53481\n",
      "19    53008\n",
      "20    51674\n",
      "21    51354\n",
      "15    48197\n",
      "22    46008\n",
      "14    40644\n",
      "13    35764\n",
      "8     34566\n",
      "7     34064\n",
      "23    33609\n",
      "12    32106\n",
      "11    31778\n",
      "10    30706\n",
      "9     30195\n",
      "6     24907\n",
      "0     21451\n",
      "5     16525\n",
      "1     14471\n",
      "4     11774\n",
      "3     10376\n",
      "2     10105\n",
      "Name: Hour, dtype: int64\n"
     ]
    }
   ],
   "source": [
    "# Group by hour and count the number of pickups\n",
    "print(df['Hour'].value_counts())\n",
    "# print('-'*35)\n",
    "# print(df.groupby('Hour').size())"
   ]
  },
  {
   "cell_type": "code",
   "execution_count": 16,
   "id": "2e54ee84",
   "metadata": {},
   "outputs": [
    {
     "name": "stdout",
     "output_type": "stream",
     "text": [
      "Hour with highest pickup is  57122\n"
     ]
    }
   ],
   "source": [
    "# Find the hour with the highest number of pickup\n",
    "hour_groupby = df.groupby('Hour').count()\n",
    "hour_with_highest_pickup = hour_groupby.sort_values(by ='Date',ascending = False)\n",
    "#print(hour_with_highest_pickup.head())\n",
    "print(\"Hour with highest pickup is \",hour_with_highest_pickup.iloc[0]['Base'])"
   ]
  },
  {
   "cell_type": "markdown",
   "id": "c2d856c1",
   "metadata": {},
   "source": [
    "#### To represent the number of Uber pickups over time?\n"
   ]
  },
  {
   "cell_type": "code",
   "execution_count": 17,
   "id": "bf609d23",
   "metadata": {},
   "outputs": [
    {
     "data": {
      "text/html": [
       "<div>\n",
       "<style scoped>\n",
       "    .dataframe tbody tr th:only-of-type {\n",
       "        vertical-align: middle;\n",
       "    }\n",
       "\n",
       "    .dataframe tbody tr th {\n",
       "        vertical-align: top;\n",
       "    }\n",
       "\n",
       "    .dataframe thead th {\n",
       "        text-align: right;\n",
       "    }\n",
       "</style>\n",
       "<table border=\"1\" class=\"dataframe\">\n",
       "  <thead>\n",
       "    <tr style=\"text-align: right;\">\n",
       "      <th></th>\n",
       "      <th>Date</th>\n",
       "      <th>Date/Time</th>\n",
       "      <th>Lat</th>\n",
       "      <th>Lon</th>\n",
       "      <th>Base</th>\n",
       "      <th>Hour</th>\n",
       "    </tr>\n",
       "  </thead>\n",
       "  <tbody>\n",
       "    <tr>\n",
       "      <th>0</th>\n",
       "      <td>2014-08-01</td>\n",
       "      <td>32353</td>\n",
       "      <td>32353</td>\n",
       "      <td>32353</td>\n",
       "      <td>32353</td>\n",
       "      <td>32353</td>\n",
       "    </tr>\n",
       "    <tr>\n",
       "      <th>1</th>\n",
       "      <td>2014-08-02</td>\n",
       "      <td>28678</td>\n",
       "      <td>28678</td>\n",
       "      <td>28678</td>\n",
       "      <td>28678</td>\n",
       "      <td>28678</td>\n",
       "    </tr>\n",
       "    <tr>\n",
       "      <th>2</th>\n",
       "      <td>2014-08-03</td>\n",
       "      <td>23146</td>\n",
       "      <td>23146</td>\n",
       "      <td>23146</td>\n",
       "      <td>23146</td>\n",
       "      <td>23146</td>\n",
       "    </tr>\n",
       "    <tr>\n",
       "      <th>3</th>\n",
       "      <td>2014-08-04</td>\n",
       "      <td>24952</td>\n",
       "      <td>24952</td>\n",
       "      <td>24952</td>\n",
       "      <td>24952</td>\n",
       "      <td>24952</td>\n",
       "    </tr>\n",
       "    <tr>\n",
       "      <th>4</th>\n",
       "      <td>2014-08-05</td>\n",
       "      <td>28094</td>\n",
       "      <td>28094</td>\n",
       "      <td>28094</td>\n",
       "      <td>28094</td>\n",
       "      <td>28094</td>\n",
       "    </tr>\n",
       "  </tbody>\n",
       "</table>\n",
       "</div>"
      ],
      "text/plain": [
       "         Date  Date/Time    Lat    Lon   Base   Hour\n",
       "0  2014-08-01      32353  32353  32353  32353  32353\n",
       "1  2014-08-02      28678  28678  28678  28678  28678\n",
       "2  2014-08-03      23146  23146  23146  23146  23146\n",
       "3  2014-08-04      24952  24952  24952  24952  24952\n",
       "4  2014-08-05      28094  28094  28094  28094  28094"
      ]
     },
     "execution_count": 17,
     "metadata": {},
     "output_type": "execute_result"
    }
   ],
   "source": [
    "import matplotlib.pyplot as plt\n",
    "\n",
    "# Group by date and count the number of pickups\n",
    "pickup_group = df.groupby('Date').count().reset_index()\n",
    "pickup_group.head()"
   ]
  },
  {
   "cell_type": "code",
   "execution_count": 18,
   "id": "f3488b15",
   "metadata": {},
   "outputs": [
    {
     "data": {
      "image/png": "[encoded data removed]",
      "text/plain": [
       "<Figure size 1000x600 with 1 Axes>"
      ]
     },
     "metadata": {},
     "output_type": "display_data"
    }
   ],
   "source": [
    "# Create a line plot to visualize the number of pickups over time\n",
    "\n",
    "#plot figuresize\n",
    "plt.figure(figsize=(10, 6))  # Width: 8 inches, Height: 6 inches\n",
    "\n",
    "\n",
    "# Plotting the line chart\n",
    "plt.plot(pickup_group['Date'], pickup_group['Lat'], marker='o', linestyle='-', color='pink')\n",
    "\n",
    "\n",
    "# Adding labels and title\n",
    "plt.xlabel('Date')\n",
    "plt.ylabel('Pickups')\n",
    "plt.title('Date Wise PickUp')\n",
    "\n",
    "# Display the plot\n",
    "plt.show()\n"
   ]
  },
  {
   "cell_type": "markdown",
   "id": "8aed8e44",
   "metadata": {},
   "source": [
    "#### Scatter plot to visualize the distribution of Uber pickups based on latitude and longitude\n"
   ]
  },
  {
   "cell_type": "code",
   "execution_count": 19,
   "id": "50b31f2f",
   "metadata": {},
   "outputs": [
    {
     "data": {
      "image/png": "[encoded data removed]",
      "text/plain": [
       "<Figure size 640x480 with 1 Axes>"
      ]
     },
     "metadata": {},
     "output_type": "display_data"
    }
   ],
   "source": [
    "# Create a scatter plot to visualize the distribution of Uber pickups based on latitude and longitude\n",
    "plt.scatter(df['Lat'],df['Lon'],marker = 'o',color ='pink',label = 'Data Points')\n",
    "\n",
    "plt.xlabel('Latitude')\n",
    "plt.ylabel('Longitude')\n",
    "plt.title('Longitude Vs Latitude')\n",
    "\n",
    "plt.show()"
   ]
  },
  {
   "cell_type": "markdown",
   "id": "3e0bad62",
   "metadata": {},
   "source": [
    "#### Bar chart to compare the number of Uber pickups for each TLC base company\n"
   ]
  },
  {
   "cell_type": "code",
   "execution_count": 20,
   "id": "5b603834",
   "metadata": {},
   "outputs": [
    {
     "data": {
      "text/plain": [
       "B02617    355803\n",
       "B02598    220129\n",
       "B02682    173280\n",
       "B02764     48591\n",
       "B02512     31472\n",
       "Name: Base, dtype: int64"
      ]
     },
     "execution_count": 20,
     "metadata": {},
     "output_type": "execute_result"
    }
   ],
   "source": [
    "# Create a bar chart to compare the number of Uber pickups for each TLC base company\n",
    "base_loc = df['Base'].value_counts()\n",
    "base_loc"
   ]
  },
  {
   "cell_type": "code",
   "execution_count": 21,
   "id": "f5526d5a",
   "metadata": {},
   "outputs": [],
   "source": [
    "categories = list(base_loc.index)\n",
    "values = list(base_loc.values)"
   ]
  },
  {
   "cell_type": "code",
   "execution_count": 22,
   "id": "663f09d6",
   "metadata": {},
   "outputs": [
    {
     "data": {
      "image/png": "[encoded data removed]",
      "text/plain": [
       "<Figure size 640x480 with 1 Axes>"
      ]
     },
     "metadata": {},
     "output_type": "display_data"
    }
   ],
   "source": [
    "# Customized bar chart\n",
    "plt.bar(categories, values, color='pink', width=0.6, align='center')\n",
    "\n",
    "# Adding data labels to the bars\n",
    "for i, v in enumerate(values):\n",
    "    plt.text(i, v, str(v), ha='center', va='bottom', fontweight='bold')\n",
    "\n",
    "# Adding labels and title\n",
    "plt.xlabel('Base Location')\n",
    "plt.ylabel('PickUps')\n",
    "plt.title('Uber pickups according to TLC Base Company')\n",
    "\n",
    "# Display the plot\n",
    "plt.show()"
   ]
  },
  {
   "cell_type": "markdown",
   "id": "e61b3ecf",
   "metadata": {},
   "source": [
    "#### A Pie chart to display the percentage distribution of Uber pickups for each day of the week\n"
   ]
  },
  {
   "cell_type": "code",
   "execution_count": 23,
   "id": "e45dbff8",
   "metadata": {},
   "outputs": [
    {
     "data": {
      "text/plain": [
       "Friday       148674\n",
       "Saturday     132225\n",
       "Thursday     124117\n",
       "Wednesday    115256\n",
       "Sunday       110246\n",
       "Tuesday      107124\n",
       "Monday        91633\n",
       "Name: weekday, dtype: int64"
      ]
     },
     "execution_count": 23,
     "metadata": {},
     "output_type": "execute_result"
    }
   ],
   "source": [
    "# Group by day of the week and count the number of pickups\n",
    "df['weekday'] = df['Date/Time'].dt.day_name()\n",
    "weekdaycounts = df['weekday'].value_counts()\n",
    "weekdaycounts"
   ]
  },
  {
   "cell_type": "code",
   "execution_count": 24,
   "id": "a6f7c330",
   "metadata": {},
   "outputs": [
    {
     "data": {
      "image/png": "[encoded data removed]",
      "text/plain": [
       "<Figure size 640x480 with 1 Axes>"
      ]
     },
     "metadata": {},
     "output_type": "display_data"
    }
   ],
   "source": [
    "# Create a pie chart to display the percentage distribution of Uber pickups for each day of the week\n",
    "plt.pie(weekdaycounts.values,labels = weekdaycounts.index,autopct='%1.1f%%',colors=['pink','orange','blue','purple'])\n",
    "plt.show()"
   ]
  },
  {
   "cell_type": "code",
   "execution_count": null,
   "id": "714fd900",
   "metadata": {},
   "outputs": [],
   "source": []
  }
 ],
 "metadata": {
  "kernelspec": {
   "display_name": "Python 3 (ipykernel)",
   "language": "python",
   "name": "python3"
  },
  "language_info": {
   "codemirror_mode": {
    "name": "ipython",
    "version": 3
   },
   "file_extension": ".py",
   "mimetype": "text/x-python",
   "name": "python",
   "nbconvert_exporter": "python",
   "pygments_lexer": "ipython3",
   "version": "3.10.9"
  }
 },
 "nbformat": 4,
 "nbformat_minor": 5
}
